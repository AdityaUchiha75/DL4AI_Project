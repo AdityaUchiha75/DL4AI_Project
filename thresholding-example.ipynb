{
 "cells": [
  {
   "cell_type": "code",
   "execution_count": null,
   "id": "959722a0",
   "metadata": {
    "_cell_guid": "b1076dfc-b9ad-4769-8c92-a6c4dae69d19",
    "_uuid": "8f2839f25d086af736a60e9eeb907d3b93b6e0e5",
    "execution": {
     "iopub.execute_input": "2023-05-17T19:10:09.164164Z",
     "iopub.status.busy": "2023-05-17T19:10:09.163638Z",
     "iopub.status.idle": "2023-05-17T19:10:13.743025Z",
     "shell.execute_reply": "2023-05-17T19:10:13.741973Z"
    },
    "papermill": {
     "duration": 4.587177,
     "end_time": "2023-05-17T19:10:13.745819",
     "exception": false,
     "start_time": "2023-05-17T19:10:09.158642",
     "status": "completed"
    },
    "scrolled": true,
    "tags": []
   },
   "outputs": [],
   "source": [
    "import numpy as np\n",
    "import pandas as pd \n",
    "import cv2\n",
    "import os\n",
    "import tqdm\n",
    "import glob\n",
    "\n",
    "import torch\n",
    "from torch.utils.data import Dataset\n",
    "from torch.utils.data import DataLoader\n",
    "from sklearn.utils import shuffle\n",
    "\n",
    "class OralCancerDataset(Dataset):\n",
    "    \"\"\"__init__ and __len__ functions are the same as in TorchvisionDataset\"\"\"\n",
    "\n",
    "    def __init__(self, path_to_images, path_to_csv = None, validation=False, val_ratio=1.0):\n",
    "        \n",
    "        # Passing the path to the train csv file reads the data from the csv with the labels\n",
    "        # If None is passes insted only the images in the image folder is loaded (wich is useful for the test set)\n",
    "        \n",
    "        self.path_to_images = path_to_images\n",
    "        self.path_to_csv = path_to_csv\n",
    "        self.v=validation\n",
    "        self.v_r=val_ratio\n",
    "\n",
    "        if self.path_to_csv is not None:\n",
    "            dat=pd.read_csv(self.path_to_csv)\n",
    "            dat=shuffle(dat)\n",
    "            dat.reset_index(inplace=True, drop=True)\n",
    "            val,tr=np.split(dat,[int(len(dat)*val_ratio)]) #train val split\n",
    "            \n",
    "            if self.v==False:\n",
    "                #self.df = pd.read_csv(self.path_to_csv)\n",
    "                self.df=tr\n",
    "\n",
    "            elif self.v==True:\n",
    "                self.df=val\n",
    "    \n",
    "    def __len__(self):\n",
    "        if self.path_to_csv:\n",
    "            return len(self.df)\n",
    "        else:\n",
    "            return len(glob.glob(self.path_to_images + '/*.jpg'))\n",
    "    \n",
    "    def __getitem__(self, idx):\n",
    "        \n",
    "        if self.path_to_csv:\n",
    "            data = self.df.iloc[idx]\n",
    "            #print(data['Name'])\n",
    "            image = cv2.imread(os.path.join(self.path_to_images, data['Name']), -1)\n",
    "            label = data['Diagnosis']\n",
    "            \n",
    "            # You can input torchvision (or other) transforms and directly augment the data\n",
    "            # if self.transform:\n",
    "            #    image = self.transform(image)\n",
    "            # ..\n",
    "            \n",
    "            return image, label\n",
    "            \n",
    "        else:\n",
    "            name = 'image_' + str(idx) + '.jpg'\n",
    "            image = cv2.imread(os.path.join(self.path_to_images, name), -1)\n",
    "            \n",
    "            return image, name"
   ]
  },
  {
   "cell_type": "code",
   "execution_count": null,
   "id": "4ee0e009",
   "metadata": {},
   "outputs": [],
   "source": [
    "# class OralCancerDataset(Dataset):\n",
    "#     \"\"\"__init__ and __len__ functions are the same as in TorchvisionDataset\"\"\"\n",
    "\n",
    "#     def __init__(self, path_to_images, path_to_csv = None):\n",
    "        \n",
    "#         # Passing the path to the train csv file reads the data from the csv with the labels\n",
    "#         # If None is passes insted only the images in the image folder is loaded (wich is useful for the test set)\n",
    "        \n",
    "#         self.path_to_images = path_to_images\n",
    "#         self.path_to_csv = path_to_csv\n",
    "        \n",
    "#         if self.path_to_csv is not None:\n",
    "#             self.df = pd.read_csv(self.path_to_csv)\n",
    "    \n",
    "#     def __len__(self):\n",
    "#         if self.path_to_csv:\n",
    "#             return len(self.df)\n",
    "#         else:\n",
    "#             return len(glob.glob(self.path_to_images + '/*.jpg'))\n",
    "    \n",
    "#     def __getitem__(self, idx):\n",
    "        \n",
    "#         if self.path_to_csv:\n",
    "#             data = self.df.iloc[idx]\n",
    "#             image = cv2.imread(os.path.join(self.path_to_images, data['Name']), -1)\n",
    "#             label = data['Diagnosis']\n",
    "            \n",
    "#             # You can input torchvision (or other) transforms and directly augment the data\n",
    "#             # if self.transform:\n",
    "#             #    image = self.transform(image)\n",
    "#             # ..\n",
    "            \n",
    "#             return image, label\n",
    "            \n",
    "#         else:\n",
    "#             name = 'image_' + str(idx) + '.jpg'\n",
    "#             image = cv2.imread(os.path.join(self.path_to_images, name), -1)\n",
    "            \n",
    "#             return image, name"
   ]
  },
  {
   "cell_type": "code",
   "execution_count": null,
   "id": "8878ebc0",
   "metadata": {
    "execution": {
     "iopub.execute_input": "2023-05-17T19:10:13.755147Z",
     "iopub.status.busy": "2023-05-17T19:10:13.754470Z",
     "iopub.status.idle": "2023-05-17T19:10:13.854100Z",
     "shell.execute_reply": "2023-05-17T19:10:13.852971Z"
    },
    "papermill": {
     "duration": 0.106739,
     "end_time": "2023-05-17T19:10:13.856775",
     "exception": false,
     "start_time": "2023-05-17T19:10:13.750036",
     "status": "completed"
    },
    "tags": []
   },
   "outputs": [],
   "source": [
    "path_to_csv = 'Data/train.csv'\n",
    "path_to_train_images = 'Data/train'\n",
    "path_to_test_images = 'Data/test'\n",
    "\n",
    "\n",
    "train_dataset = OralCancerDataset(path_to_train_images, path_to_csv, validation=False, val_ratio=0.2)\n",
    "val_dataset = OralCancerDataset(path_to_train_images, path_to_csv, validation=True, val_ratio=0.2)\n",
    "\n",
    "test_dataset = OralCancerDataset(path_to_test_images)\n",
    "\n",
    "train_dataloader = DataLoader(train_dataset,\n",
    "batch_size=32,\n",
    "shuffle=True,\n",
    "num_workers=0 ) #* (1+torch.cuda.device_count()))\n",
    "\n",
    "val_dataloader= DataLoader(val_dataset,\n",
    "batch_size=32,\n",
    "shuffle=True,\n",
    "num_workers=0 ) #* (1+torch.cuda.device_count()))\n",
    "\n",
    "\n",
    "test_dataloader = DataLoader(test_dataset,\n",
    "    batch_size=32,\n",
    "    shuffle=False,\n",
    "    num_workers=0 ) #* (1+torch.cuda.device_count()))"
   ]
  },
  {
   "cell_type": "code",
   "execution_count": null,
   "id": "3012eb0f",
   "metadata": {},
   "outputs": [],
   "source": [
    "print((len(train_dataset))+(len(val_dataset))) #14683\n",
    "# if  __name__ == '__main__':\n",
    "\n",
    "#     k=0\n",
    "#     for i in range(0,len(train_dataset)):\n",
    "#         im,n=train_dataset.__getitem__(i)\n",
    "#         print(n)\n",
    "#         k=k+1\n",
    "#         cv2.imshow(str(n),im)\n",
    "#         cv2.waitKey(0) \n",
    "#         cv2.destroyWindow(str(n))\n",
    "#         if k==1:\n",
    "#             break"
   ]
  },
  {
   "cell_type": "code",
   "execution_count": null,
   "id": "dc4e9deb",
   "metadata": {
    "execution": {
     "iopub.execute_input": "2023-05-17T19:10:13.864011Z",
     "iopub.status.busy": "2023-05-17T19:10:13.863550Z",
     "iopub.status.idle": "2023-05-17T19:11:31.933718Z",
     "shell.execute_reply": "2023-05-17T19:11:31.932178Z"
    },
    "papermill": {
     "duration": 78.077059,
     "end_time": "2023-05-17T19:11:31.936567",
     "exception": false,
     "start_time": "2023-05-17T19:10:13.859508",
     "status": "completed"
    },
    "tags": []
   },
   "outputs": [],
   "source": [
    "## Inference\n",
    "# Simple example based on only a mean intensity threshold \n",
    "\n",
    "threshold = 120\n",
    "\n",
    "d = {'Name':[], 'Diagnosis':[]}\n",
    "\n",
    "for data, name in tqdm.tqdm(test_dataloader):\n",
    "    data = data.permute(0,3,1,2) # move channel axis before x & y\n",
    "    # We guess that dark cells are dangerous\n",
    "    label = torch.mean(data.float(), dim=(1,2,3)) < threshold # mean over dimensions 1,2,3 of the data tensor\n",
    "    label = label.float() # cast to real values (still a tensor)\n",
    "    label = label.tolist() # cast to list\n",
    "    \n",
    "    d['Name'].extend(name)\n",
    "    d['Diagnosis'].extend(label)\n",
    "    #print(d)"
   ]
  },
  {
   "cell_type": "code",
   "execution_count": null,
   "id": "5dc7fdb4",
   "metadata": {
    "execution": {
     "iopub.execute_input": "2023-05-17T19:11:32.042088Z",
     "iopub.status.busy": "2023-05-17T19:11:32.041581Z",
     "iopub.status.idle": "2023-05-17T19:11:32.308717Z",
     "shell.execute_reply": "2023-05-17T19:11:32.307173Z"
    },
    "papermill": {
     "duration": 0.321604,
     "end_time": "2023-05-17T19:11:32.311849",
     "exception": false,
     "start_time": "2023-05-17T19:11:31.990245",
     "status": "completed"
    },
    "tags": []
   },
   "outputs": [],
   "source": [
    "df = pd.DataFrame(d)\n",
    "df.to_csv('submission.csv', index = False)"
   ]
  }
 ],
 "metadata": {
  "kernelspec": {
   "display_name": "Python 3",
   "language": "python",
   "name": "python3"
  },
  "language_info": {
   "codemirror_mode": {
    "name": "ipython",
    "version": 3
   },
   "file_extension": ".py",
   "mimetype": "text/x-python",
   "name": "python",
   "nbconvert_exporter": "python",
   "pygments_lexer": "ipython3",
   "version": "3.7.15"
  },
  "papermill": {
   "default_parameters": {},
   "duration": 99.700355,
   "end_time": "2023-05-17T19:11:33.890110",
   "environment_variables": {},
   "exception": null,
   "input_path": "__notebook__.ipynb",
   "output_path": "__notebook__.ipynb",
   "parameters": {},
   "start_time": "2023-05-17T19:09:54.189755",
   "version": "2.4.0"
  }
 },
 "nbformat": 4,
 "nbformat_minor": 5
}
